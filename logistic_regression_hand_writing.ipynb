{
  "nbformat": 4,
  "nbformat_minor": 0,
  "metadata": {
    "colab": {
      "provenance": [],
      "authorship_tag": "ABX9TyPB8MEryfhnTJjydmTw46tm",
      "include_colab_link": true
    },
    "kernelspec": {
      "name": "python3",
      "display_name": "Python 3"
    },
    "language_info": {
      "name": "python"
    }
  },
  "cells": [
    {
      "cell_type": "markdown",
      "metadata": {
        "id": "view-in-github",
        "colab_type": "text"
      },
      "source": [
        "<a href=\"https://colab.research.google.com/github/yesaswiniswarna/FML/blob/main/logistic_regression_hand_writing.ipynb\" target=\"_parent\"><img src=\"https://colab.research.google.com/assets/colab-badge.svg\" alt=\"Open In Colab\"/></a>"
      ]
    },
    {
      "cell_type": "code",
      "execution_count": 1,
      "metadata": {
        "id": "8LM7HE8UOwTI"
      },
      "outputs": [],
      "source": [
        "import matplotlib.pyplot as plt\n",
        "import numpy as np\n",
        "from sklearn.datasets import load_digits\n",
        "from sklearn.linear_model import LogisticRegression\n",
        "from sklearn.metrics import classification_report, confusion_matrix\n",
        "from sklearn.model_selection import train_test_split\n",
        "from sklearn.preprocessing import StandardScaler\n",
        ""
      ]
    },
    {
      "cell_type": "markdown",
      "source": [
        "![image.png](data:image/png;base64,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)"
      ],
      "metadata": {
        "id": "zmLGbbOrTZ-w"
      }
    },
    {
      "cell_type": "code",
      "source": [
        "\n",
        "X, y = load_digits(return_X_y=True)"
      ],
      "metadata": {
        "id": "tdyAXfGmPFoZ"
      },
      "execution_count": 2,
      "outputs": []
    },
    {
      "cell_type": "code",
      "source": [
        "\n",
        "X.shape, y.shape"
      ],
      "metadata": {
        "colab": {
          "base_uri": "https://localhost:8080/"
        },
        "id": "2HgQ-rImPVf4",
        "outputId": "8dcffe28-6fdb-4535-a5dc-25532fb47018"
      },
      "execution_count": 3,
      "outputs": [
        {
          "output_type": "execute_result",
          "data": {
            "text/plain": [
              "((1797, 64), (1797,))"
            ]
          },
          "metadata": {},
          "execution_count": 3
        }
      ]
    },
    {
      "cell_type": "code",
      "source": [
        "\n",
        "X[0], y[0]"
      ],
      "metadata": {
        "colab": {
          "base_uri": "https://localhost:8080/"
        },
        "id": "GVvtj85YPZsX",
        "outputId": "1776506f-462c-4c1b-f0c5-c6747a40e51b"
      },
      "execution_count": 4,
      "outputs": [
        {
          "output_type": "execute_result",
          "data": {
            "text/plain": [
              "(array([ 0.,  0.,  5., 13.,  9.,  1.,  0.,  0.,  0.,  0., 13., 15., 10.,\n",
              "        15.,  5.,  0.,  0.,  3., 15.,  2.,  0., 11.,  8.,  0.,  0.,  4.,\n",
              "        12.,  0.,  0.,  8.,  8.,  0.,  0.,  5.,  8.,  0.,  0.,  9.,  8.,\n",
              "         0.,  0.,  4., 11.,  0.,  1., 12.,  7.,  0.,  0.,  2., 14.,  5.,\n",
              "        10., 12.,  0.,  0.,  0.,  0.,  6., 13., 10.,  0.,  0.,  0.]),\n",
              " 0)"
            ]
          },
          "metadata": {},
          "execution_count": 4
        }
      ]
    },
    {
      "cell_type": "code",
      "source": [
        "\n",
        "np.unique(y)"
      ],
      "metadata": {
        "colab": {
          "base_uri": "https://localhost:8080/"
        },
        "id": "PZP0-3PGPpRP",
        "outputId": "2d977c84-3887-4f30-f736-7da409035406"
      },
      "execution_count": 5,
      "outputs": [
        {
          "output_type": "execute_result",
          "data": {
            "text/plain": [
              "array([0, 1, 2, 3, 4, 5, 6, 7, 8, 9])"
            ]
          },
          "metadata": {},
          "execution_count": 5
        }
      ]
    },
    {
      "cell_type": "code",
      "source": [
        "X_train, X_test, y_train, y_test =\\\n",
        "    train_test_split(X, y, test_size=0.2, random_state=0)"
      ],
      "metadata": {
        "id": "_LsRgBnaQAxP"
      },
      "execution_count": 6,
      "outputs": []
    },
    {
      "cell_type": "code",
      "source": [
        "\n",
        "X_train[0], np.mean(X_train[0]), np.std(X_train[0])"
      ],
      "metadata": {
        "colab": {
          "base_uri": "https://localhost:8080/"
        },
        "id": "SbAeKNHkQCLX",
        "outputId": "4d488c4d-1627-4ed1-b9d4-e5edee26862b"
      },
      "execution_count": 7,
      "outputs": [
        {
          "output_type": "execute_result",
          "data": {
            "text/plain": [
              "(array([ 0.,  0.,  0.,  9., 15.,  2.,  0.,  0.,  0.,  0.,  5., 16., 11.,\n",
              "         1.,  0.,  0.,  0.,  0., 13., 15.,  1.,  0.,  0.,  0.,  0.,  2.,\n",
              "        16., 11.,  0.,  0.,  0.,  0.,  0.,  2., 16., 11.,  4.,  4.,  0.,\n",
              "         0.,  0.,  2., 15., 16., 16., 14., 10.,  1.,  0.,  0.,  9., 16.,\n",
              "         7.,  3., 15.,  6.,  0.,  0.,  0.,  7., 15., 16., 16.,  6.]),\n",
              " 5.375,\n",
              " 6.3356629487370935)"
            ]
          },
          "metadata": {},
          "execution_count": 7
        }
      ]
    },
    {
      "cell_type": "code",
      "source": [
        "\n",
        "scaler = StandardScaler()\n",
        "X_train = scaler.fit_transform(X_train)\n",
        ""
      ],
      "metadata": {
        "id": "b0OxN_kAQdkv"
      },
      "execution_count": 8,
      "outputs": []
    },
    {
      "cell_type": "code",
      "source": [
        "\n",
        "X_train[0], np.mean(X_train[0]), np.std(X_train[0])"
      ],
      "metadata": {
        "colab": {
          "base_uri": "https://localhost:8080/"
        },
        "id": "gjyDqRf7Ql-w",
        "outputId": "ae30a0df-cbc6-4fc2-e6c8-5bfb8b109b8e"
      },
      "execution_count": 9,
      "outputs": [
        {
          "output_type": "execute_result",
          "data": {
            "text/plain": [
              "(array([ 0.        , -0.33790435, -1.09141592, -0.64913206,  0.73480922,\n",
              "        -0.6782652 , -0.40764783, -0.12238102, -0.05576317, -0.62606288,\n",
              "        -0.99058772,  0.99749054,  0.13213489, -1.19579353, -0.51556231,\n",
              "        -0.12605859, -0.03733267, -0.72296123,  0.55610538,  1.38118964,\n",
              "        -0.98465664, -1.26284019, -0.55465252, -0.11565628, -0.02638899,\n",
              "        -0.15208278,  1.10759523,  0.37163491, -1.60830723, -1.28974179,\n",
              "        -0.63555933, -0.04573894,  0.        , -0.10276083,  1.32734049,\n",
              "         0.31000002, -1.05452978, -0.80512633, -0.83498919,  0.        ,\n",
              "        -0.05806465,  0.13008703,  1.23225418,  1.35913603,  1.32341669,\n",
              "         1.01539823,  1.51779287,  3.19368333, -0.03963009, -0.40398151,\n",
              "         0.25100815,  1.22276113, -0.47996928, -0.96182318,  2.3466476 ,\n",
              "         6.15487177, -0.02638899, -0.30140625, -1.0865776 , -1.14418634,\n",
              "         0.65337948,  1.58325794,  3.53125595,  3.30213343]),\n",
              " 0.221929014610994,\n",
              " 1.3327685970226733)"
            ]
          },
          "metadata": {},
          "execution_count": 9
        }
      ]
    },
    {
      "cell_type": "code",
      "source": [
        "model = LogisticRegression(C=0.05, multi_class='ovr',random_state=0)\n",
        "model.fit(X_train, y_train)"
      ],
      "metadata": {
        "colab": {
          "base_uri": "https://localhost:8080/",
          "height": 74
        },
        "id": "egdWL2qBRAdo",
        "outputId": "77017add-b891-460e-ac0e-d96429e4dc0f"
      },
      "execution_count": 10,
      "outputs": [
        {
          "output_type": "execute_result",
          "data": {
            "text/plain": [
              "LogisticRegression(C=0.05, multi_class='ovr', random_state=0)"
            ],
            "text/html": [
              "<style>#sk-container-id-1 {color: black;background-color: white;}#sk-container-id-1 pre{padding: 0;}#sk-container-id-1 div.sk-toggleable {background-color: white;}#sk-container-id-1 label.sk-toggleable__label {cursor: pointer;display: block;width: 100%;margin-bottom: 0;padding: 0.3em;box-sizing: border-box;text-align: center;}#sk-container-id-1 label.sk-toggleable__label-arrow:before {content: \"▸\";float: left;margin-right: 0.25em;color: #696969;}#sk-container-id-1 label.sk-toggleable__label-arrow:hover:before {color: black;}#sk-container-id-1 div.sk-estimator:hover label.sk-toggleable__label-arrow:before {color: black;}#sk-container-id-1 div.sk-toggleable__content {max-height: 0;max-width: 0;overflow: hidden;text-align: left;background-color: #f0f8ff;}#sk-container-id-1 div.sk-toggleable__content pre {margin: 0.2em;color: black;border-radius: 0.25em;background-color: #f0f8ff;}#sk-container-id-1 input.sk-toggleable__control:checked~div.sk-toggleable__content {max-height: 200px;max-width: 100%;overflow: auto;}#sk-container-id-1 input.sk-toggleable__control:checked~label.sk-toggleable__label-arrow:before {content: \"▾\";}#sk-container-id-1 div.sk-estimator input.sk-toggleable__control:checked~label.sk-toggleable__label {background-color: #d4ebff;}#sk-container-id-1 div.sk-label input.sk-toggleable__control:checked~label.sk-toggleable__label {background-color: #d4ebff;}#sk-container-id-1 input.sk-hidden--visually {border: 0;clip: rect(1px 1px 1px 1px);clip: rect(1px, 1px, 1px, 1px);height: 1px;margin: -1px;overflow: hidden;padding: 0;position: absolute;width: 1px;}#sk-container-id-1 div.sk-estimator {font-family: monospace;background-color: #f0f8ff;border: 1px dotted black;border-radius: 0.25em;box-sizing: border-box;margin-bottom: 0.5em;}#sk-container-id-1 div.sk-estimator:hover {background-color: #d4ebff;}#sk-container-id-1 div.sk-parallel-item::after {content: \"\";width: 100%;border-bottom: 1px solid gray;flex-grow: 1;}#sk-container-id-1 div.sk-label:hover label.sk-toggleable__label {background-color: #d4ebff;}#sk-container-id-1 div.sk-serial::before {content: \"\";position: absolute;border-left: 1px solid gray;box-sizing: border-box;top: 0;bottom: 0;left: 50%;z-index: 0;}#sk-container-id-1 div.sk-serial {display: flex;flex-direction: column;align-items: center;background-color: white;padding-right: 0.2em;padding-left: 0.2em;position: relative;}#sk-container-id-1 div.sk-item {position: relative;z-index: 1;}#sk-container-id-1 div.sk-parallel {display: flex;align-items: stretch;justify-content: center;background-color: white;position: relative;}#sk-container-id-1 div.sk-item::before, #sk-container-id-1 div.sk-parallel-item::before {content: \"\";position: absolute;border-left: 1px solid gray;box-sizing: border-box;top: 0;bottom: 0;left: 50%;z-index: -1;}#sk-container-id-1 div.sk-parallel-item {display: flex;flex-direction: column;z-index: 1;position: relative;background-color: white;}#sk-container-id-1 div.sk-parallel-item:first-child::after {align-self: flex-end;width: 50%;}#sk-container-id-1 div.sk-parallel-item:last-child::after {align-self: flex-start;width: 50%;}#sk-container-id-1 div.sk-parallel-item:only-child::after {width: 0;}#sk-container-id-1 div.sk-dashed-wrapped {border: 1px dashed gray;margin: 0 0.4em 0.5em 0.4em;box-sizing: border-box;padding-bottom: 0.4em;background-color: white;}#sk-container-id-1 div.sk-label label {font-family: monospace;font-weight: bold;display: inline-block;line-height: 1.2em;}#sk-container-id-1 div.sk-label-container {text-align: center;}#sk-container-id-1 div.sk-container {/* jupyter's `normalize.less` sets `[hidden] { display: none; }` but bootstrap.min.css set `[hidden] { display: none !important; }` so we also need the `!important` here to be able to override the default hidden behavior on the sphinx rendered scikit-learn.org. See: https://github.com/scikit-learn/scikit-learn/issues/21755 */display: inline-block !important;position: relative;}#sk-container-id-1 div.sk-text-repr-fallback {display: none;}</style><div id=\"sk-container-id-1\" class=\"sk-top-container\"><div class=\"sk-text-repr-fallback\"><pre>LogisticRegression(C=0.05, multi_class=&#x27;ovr&#x27;, random_state=0)</pre><b>In a Jupyter environment, please rerun this cell to show the HTML representation or trust the notebook. <br />On GitHub, the HTML representation is unable to render, please try loading this page with nbviewer.org.</b></div><div class=\"sk-container\" hidden><div class=\"sk-item\"><div class=\"sk-estimator sk-toggleable\"><input class=\"sk-toggleable__control sk-hidden--visually\" id=\"sk-estimator-id-1\" type=\"checkbox\" checked><label for=\"sk-estimator-id-1\" class=\"sk-toggleable__label sk-toggleable__label-arrow\">LogisticRegression</label><div class=\"sk-toggleable__content\"><pre>LogisticRegression(C=0.05, multi_class=&#x27;ovr&#x27;, random_state=0)</pre></div></div></div></div></div>"
            ]
          },
          "metadata": {},
          "execution_count": 10
        }
      ]
    },
    {
      "cell_type": "code",
      "source": [
        "X_test = scaler.transform(X_test)\n",
        "y_pred = model.predict(X_test)"
      ],
      "metadata": {
        "id": "IBipFLrzRRIQ"
      },
      "execution_count": 11,
      "outputs": []
    },
    {
      "cell_type": "code",
      "source": [
        "\n",
        "model.score(X_train, y_train)"
      ],
      "metadata": {
        "colab": {
          "base_uri": "https://localhost:8080/"
        },
        "id": "LqGTTmz8RVMI",
        "outputId": "fdc59fb4-d2b6-4217-819a-fa6f10093a09"
      },
      "execution_count": 12,
      "outputs": [
        {
          "output_type": "execute_result",
          "data": {
            "text/plain": [
              "0.9707724425887265"
            ]
          },
          "metadata": {},
          "execution_count": 12
        }
      ]
    },
    {
      "cell_type": "code",
      "source": [
        "model.score(X_test, y_test)"
      ],
      "metadata": {
        "colab": {
          "base_uri": "https://localhost:8080/"
        },
        "id": "a9yJWjggRdoJ",
        "outputId": "50b04a8a-2c4e-4858-ce8b-ccad1cd4033f"
      },
      "execution_count": 13,
      "outputs": [
        {
          "output_type": "execute_result",
          "data": {
            "text/plain": [
              "0.9555555555555556"
            ]
          },
          "metadata": {},
          "execution_count": 13
        }
      ]
    },
    {
      "cell_type": "code",
      "source": [
        "confusion_matrix(y_test, y_pred)"
      ],
      "metadata": {
        "colab": {
          "base_uri": "https://localhost:8080/"
        },
        "id": "9xMB89K3Rg0S",
        "outputId": "3d429549-0b7e-4f4e-c0e5-0ba7fb44a267"
      },
      "execution_count": 14,
      "outputs": [
        {
          "output_type": "execute_result",
          "data": {
            "text/plain": [
              "array([[27,  0,  0,  0,  0,  0,  0,  0,  0,  0],\n",
              "       [ 0, 31,  0,  0,  0,  0,  1,  0,  1,  2],\n",
              "       [ 0,  0, 35,  0,  0,  0,  0,  1,  0,  0],\n",
              "       [ 0,  0,  0, 29,  0,  0,  0,  0,  0,  0],\n",
              "       [ 0,  0,  0,  0, 29,  0,  0,  1,  0,  0],\n",
              "       [ 0,  0,  0,  0,  0, 39,  0,  0,  0,  1],\n",
              "       [ 0,  1,  0,  0,  0,  0, 43,  0,  0,  0],\n",
              "       [ 0,  0,  0,  0,  1,  0,  0, 38,  0,  0],\n",
              "       [ 0,  2,  1,  1,  0,  0,  0,  0, 35,  0],\n",
              "       [ 0,  0,  0,  0,  0,  1,  0,  1,  1, 38]])"
            ]
          },
          "metadata": {},
          "execution_count": 14
        }
      ]
    },
    {
      "cell_type": "code",
      "source": [
        "print(classification_report(y_test, y_pred))"
      ],
      "metadata": {
        "colab": {
          "base_uri": "https://localhost:8080/"
        },
        "id": "JfP17k_NRnDY",
        "outputId": "fd8b892f-366b-42b7-91e9-8d8805d49500"
      },
      "execution_count": 15,
      "outputs": [
        {
          "output_type": "stream",
          "name": "stdout",
          "text": [
            "              precision    recall  f1-score   support\n",
            "\n",
            "           0       1.00      1.00      1.00        27\n",
            "           1       0.91      0.89      0.90        35\n",
            "           2       0.97      0.97      0.97        36\n",
            "           3       0.97      1.00      0.98        29\n",
            "           4       0.97      0.97      0.97        30\n",
            "           5       0.97      0.97      0.97        40\n",
            "           6       0.98      0.98      0.98        44\n",
            "           7       0.93      0.97      0.95        39\n",
            "           8       0.95      0.90      0.92        39\n",
            "           9       0.93      0.93      0.93        41\n",
            "\n",
            "    accuracy                           0.96       360\n",
            "   macro avg       0.96      0.96      0.96       360\n",
            "weighted avg       0.96      0.96      0.96       360\n",
            "\n"
          ]
        }
      ]
    }
  ]
}