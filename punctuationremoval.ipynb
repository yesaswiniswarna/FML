{
  "nbformat": 4,
  "nbformat_minor": 0,
  "metadata": {
    "colab": {
      "provenance": [],
      "authorship_tag": "ABX9TyOhcCpqhmiQR9zgvG5tP2JA",
      "include_colab_link": true
    },
    "kernelspec": {
      "name": "python3",
      "display_name": "Python 3"
    },
    "language_info": {
      "name": "python"
    }
  },
  "cells": [
    {
      "cell_type": "markdown",
      "metadata": {
        "id": "view-in-github",
        "colab_type": "text"
      },
      "source": [
        "<a href=\"https://colab.research.google.com/github/yesaswiniswarna/FML/blob/main/punctuationremoval.ipynb\" target=\"_parent\"><img src=\"https://colab.research.google.com/assets/colab-badge.svg\" alt=\"Open In Colab\"/></a>"
      ]
    },
    {
      "cell_type": "code",
      "execution_count": 19,
      "metadata": {
        "colab": {
          "base_uri": "https://localhost:8080/",
          "height": 35
        },
        "id": "U-v4bT82SUoE",
        "outputId": "980d0198-6eab-482e-d8d4-187f7cc4f07a"
      },
      "outputs": [
        {
          "output_type": "execute_result",
          "data": {
            "text/plain": [
              "'!\"#$%&\\'()*+,-./:;<=>?@[\\\\]^_`{|}~'"
            ],
            "application/vnd.google.colaboratory.intrinsic+json": {
              "type": "string"
            }
          },
          "metadata": {},
          "execution_count": 19
        }
      ],
      "source": [
        " import string\n",
        " string.punctuation"
      ]
    },
    {
      "cell_type": "code",
      "source": [
        "import re\n",
        "py_str = \"nltk@%,^remove#!punctualtion\"\n",
        "\n",
        "print ('String: ', py_str)\n",
        "print ('Without punctuation string: ', py_opstr)"
      ],
      "metadata": {
        "colab": {
          "base_uri": "https://localhost:8080/"
        },
        "id": "91EzjMmPVgpe",
        "outputId": "a9da1a7d-0271-49ea-9c53-998d55745081"
      },
      "execution_count": 26,
      "outputs": [
        {
          "output_type": "stream",
          "name": "stdout",
          "text": [
            "String:  nltk@%,^remove#!punctualtion\n",
            "Without punctuation string:  nltkremovepunctualtion\n"
          ]
        }
      ]
    },
    {
      "cell_type": "code",
      "source": [
        "import string\n",
        "py_str = \"nltk @%,^ remove #! punctualtion\"\n",
        "py_opstr = py_str.translate (str.maketrans ('', '', string.punctuation))\n",
        "print ('String: ', py_str)\n",
        "print ('Without punctuation string: ', py_opstr)"
      ],
      "metadata": {
        "colab": {
          "base_uri": "https://localhost:8080/"
        },
        "id": "FjDS7sHZXxrx",
        "outputId": "ea8753c0-96d5-4bc1-8830-ffa32c1be1e7"
      },
      "execution_count": 15,
      "outputs": [
        {
          "output_type": "stream",
          "name": "stdout",
          "text": [
            "String:  nltk @%,^ remove #! punctualtion\n",
            "Without punctuation string:  nltk  remove  punctualtion\n"
          ]
        }
      ]
    },
    {
      "cell_type": "code",
      "source": [
        "import string\n",
        "py_str = \"nltk @%,^ remove #! punctualtion\"\n",
        "exclude = set(string.punctuation)\n",
        "py_str = ''.join(ch for ch in py_str if ch not in exclude)\n",
        "print (py_str)"
      ],
      "metadata": {
        "colab": {
          "base_uri": "https://localhost:8080/"
        },
        "id": "ZKhEs6x2X2vd",
        "outputId": "4f2def1c-2f9b-487d-cf2c-1443f536f15d"
      },
      "execution_count": 16,
      "outputs": [
        {
          "output_type": "stream",
          "name": "stdout",
          "text": [
            "nltk  remove  punctualtion\n"
          ]
        }
      ]
    },
    {
      "cell_type": "code",
      "source": [
        "py_str = \"nltk @emove punctuation\"\n",
        "print (py_str)\n",
        "py_ls = py_str.replace ('@', 'r')\n",
        "print (py_ls)"
      ],
      "metadata": {
        "colab": {
          "base_uri": "https://localhost:8080/"
        },
        "id": "IyWNYM09X-LH",
        "outputId": "affbcbd3-69ab-4228-b7af-fdd51ebe1bb6"
      },
      "execution_count": 17,
      "outputs": [
        {
          "output_type": "stream",
          "name": "stdout",
          "text": [
            "nltk @emove punctuation\n",
            "nltk remove punctuation\n"
          ]
        }
      ]
    },
    {
      "cell_type": "code",
      "source": [
        "import re\n",
        "py_str1 = \"@python nltk remove punctualtion#!\"\n",
        "py_opstr1 = re.sub(r'[^\\w\\s]','',py_str1)\n",
        "print ('String: ', py_str1)\n",
        "print ('Without punctuation string: ', py_opstr1)"
      ],
      "metadata": {
        "colab": {
          "base_uri": "https://localhost:8080/"
        },
        "id": "gqIeKTYVYNtn",
        "outputId": "5f13a8a6-ec75-4ee1-d65d-d9427a13b67d"
      },
      "execution_count": 18,
      "outputs": [
        {
          "output_type": "stream",
          "name": "stdout",
          "text": [
            "String:  @python nltk remove punctualtion#!\n",
            "Without punctuation string:  python nltk remove punctualtion\n"
          ]
        }
      ]
    }
  ]
}